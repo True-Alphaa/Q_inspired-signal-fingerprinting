{
 "cells": [
  {
   "cell_type": "code",
   "execution_count": 118,
   "id": "5113a473-05b3-4a3b-9456-66dabef0afc5",
   "metadata": {},
   "outputs": [
    {
     "data": {
      "text/plain": [
       "18-element Vector{Index{Int64}}:\n",
       " (dim=2|id=261|\"Qubit,Site,n=1\")\n",
       " (dim=2|id=932|\"Qubit,Site,n=2\")\n",
       " (dim=2|id=285|\"Qubit,Site,n=3\")\n",
       " (dim=2|id=83|\"Qubit,Site,n=4\")\n",
       " (dim=2|id=1|\"Qubit,Site,n=5\")\n",
       " (dim=2|id=915|\"Qubit,Site,n=6\")\n",
       " (dim=2|id=348|\"Qubit,Site,n=7\")\n",
       " (dim=2|id=346|\"Qubit,Site,n=8\")\n",
       " (dim=2|id=523|\"Qubit,Site,n=9\")\n",
       " (dim=2|id=169|\"Qubit,Site,n=10\")\n",
       " (dim=2|id=73|\"Qubit,Site,n=11\")\n",
       " (dim=2|id=159|\"Qubit,Site,n=12\")\n",
       " (dim=2|id=270|\"Qubit,Site,n=13\")\n",
       " (dim=2|id=435|\"Qubit,Site,n=14\")\n",
       " (dim=2|id=959|\"Qubit,Site,n=15\")\n",
       " (dim=2|id=379|\"Qubit,Site,n=16\")\n",
       " (dim=2|id=587|\"Qubit,Site,n=17\")\n",
       " (dim=2|id=520|\"Qubit,Site,n=18\")"
      ]
     },
     "execution_count": 118,
     "metadata": {},
     "output_type": "execute_result"
    }
   ],
   "source": [
    "using ITensors, ITensorMPS\n",
    "using LinearAlgebra\n",
    "using Plots\n",
    "using HDF5\n",
    "\n",
    "N = 18\n",
    "\n",
    "f4 = h5open(\"Basis states Final/MPO_$N.h5\",\"r\")\n",
    "W1 = read(f4,\"W\",MPO)\n",
    "close(f4)\n",
    "\n",
    "# Assuming `siteinds(W1)` gives the indices of the MPO\n",
    "all_sites = siteinds(W1)\n",
    "\n",
    "# Consider only physical sites\n",
    "s = [pair[2] for pair in all_sites]\n",
    "\n",
    "# println(s)"
   ]
  },
  {
   "cell_type": "code",
   "execution_count": 119,
   "id": "8fc16a10-df5e-4367-b41a-e445d6c79350",
   "metadata": {},
   "outputs": [
    {
     "name": "stdout",
     "output_type": "stream",
     "text": [
      "0.00415492057800293\n"
     ]
    }
   ],
   "source": [
    "# Taking the input \n",
    "\n",
    "x = range(0, stop=2π, length=2^(N))\n",
    "input_array = cos.(x)\n",
    "\n",
    "\n",
    "array = input_array / norm(input_array) # Input\n",
    "ITensors.disable_warn_order()\n",
    "\n",
    "cutoff1 = 1E-24\n",
    "maxdim1 = 10\n",
    "\n",
    "\n",
    "T = ITensor(array,s)\n",
    "\n",
    "ψ = MPS(T,s;cutoff=cutoff1,maxdim=maxdim1)\n",
    "\n",
    "orthogonalize!(ψ, 1) # Orthogonalize Psi \n",
    "\n",
    "start = time()\n",
    "\n",
    "result = contract(W1, ψ)\n",
    "end_time = time()\n",
    "time1 = end_time - start\n",
    "\n",
    "println(time1)"
   ]
  },
  {
   "cell_type": "code",
   "execution_count": 120,
   "id": "78655c67-0ebe-49e1-afb4-7c352ad8a9f4",
   "metadata": {},
   "outputs": [
    {
     "name": "stdout",
     "output_type": "stream",
     "text": [
      "0.016412973403930664\n"
     ]
    }
   ],
   "source": [
    "using FFTW\n",
    "\n",
    "start2 = time()\n",
    "x2 = fft(array)\n",
    "end2 = time()\n",
    "\n",
    "time2 = end2 - start2\n",
    "println(time2)"
   ]
  },
  {
   "cell_type": "markdown",
   "id": "eb4123e5-fbb7-426a-88bf-306a5ca37014",
   "metadata": {},
   "source": [
    "# Check Output "
   ]
  },
  {
   "cell_type": "code",
   "execution_count": 121,
   "id": "6ebe6845-f887-4224-9243-0bdfa85fd816",
   "metadata": {},
   "outputs": [
    {
     "name": "stdout",
     "output_type": "stream",
     "text": [
      "0.002762130599815013 + 2.979714937090989e-14im\n",
      "362.0386719348623 + 0.0043387527501762896im\n",
      "-0.0009207195593787514 - 2.206799722679766e-8im\n",
      "-0.0003452692844384114 - 1.2413259059515352e-8im\n",
      "-0.00017297471297654526 - 8.291829373187094e-9im\n",
      "-0.0001150898159370587 - 6.895841306200925e-9im\n",
      "-9.852659508225201e-5 - 7.0845299319945645e-9im\n",
      "-5.754487369348539e-5 - 4.81798097840954e-9im\n"
     ]
    }
   ],
   "source": [
    "\n",
    "inner_products = []\n",
    "MPS2 = []\n",
    "\n",
    "for i in 1:2^3\n",
    "    f2 = h5open(\"Basis states Final/MPS_$N/MPS_create_$i.h5\",\"r\")\n",
    "    mps1 = read(f2,\"M\",MPS)\n",
    "    push!(MPS2,mps1)\n",
    "    close(f2)\n",
    "end\n",
    "\n",
    "for i in 1:(2^3)\n",
    "    push!(inner_products, inner(MPS2[i], result))\n",
    "    print(inner(MPS2[i], result)*2^(N/2))\n",
    "    println()\n",
    "end\n"
   ]
  },
  {
   "cell_type": "code",
   "execution_count": 122,
   "id": "34b2a95b-97ea-4586-9c0c-64f8398959f9",
   "metadata": {},
   "outputs": [
    {
     "name": "stdout",
     "output_type": "stream",
     "text": [
      "0.0027621305956405428 + 0.0im\n",
      "362.03867193482245 + 0.004338752869069623im\n",
      "-0.000920719564220234 - 2.2068220727816898e-8im\n",
      "-0.00034526928762401417 - 1.2413352371348043e-8im\n",
      "-0.00018414353798833466 - 8.827270340894452e-9im\n",
      "-0.0001150896891976244 - 6.896297819640831e-9im\n",
      "-7.89186360494099e-5 - 5.674672125442224e-9im\n",
      "-5.7544835317219315e-5 - 4.827417004817351e-9im\n"
     ]
    }
   ],
   "source": [
    "for i in 1:2^3\n",
    "    println(x2[i])\n",
    "end"
   ]
  },
  {
   "cell_type": "markdown",
   "id": "20e186bf-f07c-4285-8d75-d08464ce6ce0",
   "metadata": {},
   "source": [
    "# Code to generate basis states to measure"
   ]
  },
  {
   "cell_type": "code",
   "execution_count": 112,
   "id": "f866c83e-efc7-42b2-b7d5-1385caa55e7f",
   "metadata": {},
   "outputs": [],
   "source": [
    "# function generate_basis_states(n)\n",
    "#     basis_states = []\n",
    "#     for i in 0:(2^n - 1)\n",
    "#         binary_str = bitstring(i)[end-n+1:end]  # Get last n bits of bitstring\n",
    "#         push!(basis_states, collect(binary_str))  # Collect splits string into array of characters\n",
    "#     end\n",
    "#     return basis_states\n",
    "# end\n",
    "\n",
    "# MPS_states = []\n",
    "# basis_states = generate_basis_states(N)\n",
    "\n",
    "# for i in 1:(2^N)\n",
    "#     push!(MPS_states, MPS(s,string.(basis_states[i])))\n",
    "# end\n",
    "\n",
    "# using HDF5\n",
    "# f = 0 \n",
    "\n",
    "# for (i, mps) in enumerate(MPS_states)\n",
    "#     f = h5open(\"Basis states Final/MPS_$N/MPS_create_$i.h5\",\"w\")\n",
    "#     write(f,\"M\", mps)\n",
    "# end\n",
    "# close(f)"
   ]
  }
 ],
 "metadata": {
  "kernelspec": {
   "display_name": "Julia 1.10.4",
   "language": "julia",
   "name": "julia-1.10"
  },
  "language_info": {
   "file_extension": ".jl",
   "mimetype": "application/julia",
   "name": "julia",
   "version": "1.10.4"
  }
 },
 "nbformat": 4,
 "nbformat_minor": 5
}
